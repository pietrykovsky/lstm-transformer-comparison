{
  "cells": [
    {
      "cell_type": "code",
      "execution_count": 3,
      "metadata": {},
      "outputs": [],
      "source": [
        "import torch\n",
        "import torch.nn as nn\n",
        "from torch.nn import functional as F\n",
        "from tqdm import tqdm\n",
        "import matplotlib.pyplot as plt"
      ]
    },
    {
      "cell_type": "code",
      "execution_count": 4,
      "metadata": {},
      "outputs": [],
      "source": [
        "# utility functions\n",
        "def read_text(file_path):\n",
        "    with open(file_path, \"r\", encoding=\"utf-8\") as f:\n",
        "        return f.read()\n",
        "\n",
        "\n",
        "def create_vocab(text):\n",
        "    chars = sorted(list(set(text)))\n",
        "    stoi = {ch: i for i, ch in enumerate(chars)}\n",
        "    itos = {i: ch for i, ch in enumerate(chars)}\n",
        "    return chars, stoi, itos\n",
        "\n",
        "\n",
        "def encode_string(s, stoi):\n",
        "    return [stoi[c] for c in s]\n",
        "\n",
        "\n",
        "def decode_indices(l, itos):\n",
        "    return \"\".join([itos[i] for i in l])\n",
        "\n",
        "\n",
        "def plot_losses(train_losses, val_losses):\n",
        "    plt.figure(figsize=(10, 5))\n",
        "    plt.plot(train_losses, label=\"Train Loss\")\n",
        "    plt.plot(val_losses, label=\"Validation Loss\")\n",
        "    plt.xlabel(\"Evaluation Interval\")\n",
        "    plt.ylabel(\"Loss\")\n",
        "    plt.legend()\n",
        "    plt.title(\"Training and Validation Loss\")\n",
        "    plt.show()"
      ]
    },
    {
      "cell_type": "code",
      "execution_count": 5,
      "metadata": {},
      "outputs": [
        {
          "data": {
            "text/plain": [
              "<torch._C.Generator at 0x2b87e83a190>"
            ]
          },
          "execution_count": 5,
          "metadata": {},
          "output_type": "execute_result"
        }
      ],
      "source": [
        "# hyperparameters\n",
        "class Config:\n",
        "    batch_size = 128  # how many independent sequences will we process in parallel?\n",
        "    block_size = 256  # what is the maximum context length for predictions?\n",
        "    max_iters = 5000\n",
        "    eval_interval = 100\n",
        "    learning_rate = 3e-4\n",
        "    device = \"cuda\" if torch.cuda.is_available() else \"cpu\"\n",
        "    eval_iters = 100\n",
        "    n_embd = 384\n",
        "    n_head = 6\n",
        "    n_layer = 8\n",
        "    dropout = 0.2  \n",
        "    \n",
        "    \n",
        "# set random seed for reproducibility\n",
        "torch.manual_seed(1337)"
      ]
    },
    {
      "cell_type": "code",
      "execution_count": 6,
      "metadata": {},
      "outputs": [],
      "source": [
        "class Dataset:\n",
        "    def __init__(self, text, block_size, train_split=0.9):\n",
        "        self.data = torch.tensor(encode_string(text, stoi), dtype=torch.long)\n",
        "        n = int(train_split * len(self.data))\n",
        "        self.train_data = self.data[:n]\n",
        "        self.val_data = self.data[n:]\n",
        "        self.block_size = block_size\n",
        "\n",
        "    def get_batch(self, split):\n",
        "        data = self.train_data if split == \"train\" else self.val_data\n",
        "        ix = torch.randint(len(data) - self.block_size, (Config.batch_size,))\n",
        "        x = torch.stack([data[i : i + Config.block_size] for i in ix])\n",
        "        y = torch.stack([data[i + 1 : i + Config.block_size + 1] for i in ix])\n",
        "        x, y = x.to(Config.device), y.to(Config.device)\n",
        "        return x, y"
      ]
    },
    {
      "cell_type": "code",
      "execution_count": 7,
      "metadata": {},
      "outputs": [],
      "source": [
        "class Head(nn.Module):\n",
        "    def __init__(self, head_size):\n",
        "        super().__init__()\n",
        "        self.key = nn.Linear(Config.n_embd, head_size, bias=False)\n",
        "        self.query = nn.Linear(Config.n_embd, head_size, bias=False)\n",
        "        self.value = nn.Linear(Config.n_embd, head_size, bias=False)\n",
        "        self.register_buffer(\n",
        "            \"tril\", torch.tril(torch.ones(Config.block_size, Config.block_size))\n",
        "        )\n",
        "        self.dropout = nn.Dropout(Config.dropout)\n",
        "\n",
        "    def forward(self, x):\n",
        "        B, T, C = x.shape\n",
        "        k = self.key(x)\n",
        "        q = self.query(x)\n",
        "        wei = q @ k.transpose(-2, -1) * k.shape[-1] ** -0.5\n",
        "        wei = wei.masked_fill(self.tril[:T, :T] == 0, float(\"-inf\"))\n",
        "        wei = F.softmax(wei, dim=-1)\n",
        "        wei = self.dropout(wei)\n",
        "        v = self.value(x)\n",
        "        out = wei @ v\n",
        "        return out"
      ]
    },
    {
      "cell_type": "code",
      "execution_count": 8,
      "metadata": {},
      "outputs": [],
      "source": [
        "class MultiHeadAttention(nn.Module):\n",
        "    def __init__(self, num_heads, head_size):\n",
        "        super().__init__()\n",
        "        self.heads = nn.ModuleList([Head(head_size) for _ in range(num_heads)])\n",
        "        self.proj = nn.Linear(head_size * num_heads, Config.n_embd)\n",
        "        self.dropout = nn.Dropout(Config.dropout)\n",
        "\n",
        "    def forward(self, x):\n",
        "        out = torch.cat([h(x) for h in self.heads], dim=-1)\n",
        "        out = self.dropout(self.proj(out))\n",
        "        return out"
      ]
    },
    {
      "cell_type": "code",
      "execution_count": 9,
      "metadata": {},
      "outputs": [],
      "source": [
        "class FeedForward(nn.Module):\n",
        "    def __init__(self, n_embd):\n",
        "        super().__init__()\n",
        "        self.net = nn.Sequential(\n",
        "            nn.Linear(n_embd, 4 * n_embd),\n",
        "            nn.ReLU(),\n",
        "            nn.Linear(4 * n_embd, n_embd),\n",
        "            nn.Dropout(Config.dropout),\n",
        "        )\n",
        "\n",
        "    def forward(self, x):\n",
        "        return self.net(x)"
      ]
    },
    {
      "cell_type": "code",
      "execution_count": 10,
      "metadata": {},
      "outputs": [],
      "source": [
        "class Block(nn.Module):\n",
        "    def __init__(self, n_embd, n_head):\n",
        "        super().__init__()\n",
        "        head_size = n_embd // n_head\n",
        "        self.sa = MultiHeadAttention(n_head, head_size)\n",
        "        self.ffwd = FeedForward(n_embd)\n",
        "        self.ln1 = nn.LayerNorm(n_embd)\n",
        "        self.ln2 = nn.LayerNorm(n_embd)\n",
        "\n",
        "    def forward(self, x):\n",
        "        x = x + self.sa(self.ln1(x))\n",
        "        x = x + self.ffwd(self.ln2(x))\n",
        "        return x"
      ]
    },
    {
      "cell_type": "code",
      "execution_count": 11,
      "metadata": {},
      "outputs": [],
      "source": [
        "class Transformer(nn.Module):\n",
        "    def __init__(self):\n",
        "        super().__init__()\n",
        "        self.token_embedding_table = nn.Embedding(vocab_size, Config.n_embd)\n",
        "        self.position_embedding_table = nn.Embedding(Config.block_size, Config.n_embd)\n",
        "        self.blocks = nn.Sequential(\n",
        "            *[Block(Config.n_embd, n_head=Config.n_head) for _ in range(Config.n_layer)]\n",
        "        )\n",
        "        self.ln_f = nn.LayerNorm(Config.n_embd)\n",
        "        self.lm_head = nn.Linear(Config.n_embd, vocab_size)\n",
        "        self.apply(self._init_weights)\n",
        "\n",
        "    def _init_weights(self, module):\n",
        "        if isinstance(module, nn.Linear):\n",
        "            torch.nn.init.normal_(module.weight, mean=0.0, std=0.02)\n",
        "            if module.bias is not None:\n",
        "                torch.nn.init.zeros_(module.bias)\n",
        "        elif isinstance(module, nn.Embedding):\n",
        "            torch.nn.init.normal_(module.weight, mean=0.0, std=0.02)\n",
        "\n",
        "    def forward(self, idx, targets=None):\n",
        "        B, T = idx.shape\n",
        "        tok_emb = self.token_embedding_table(idx)\n",
        "        pos_emb = self.position_embedding_table(torch.arange(T, device=Config.device))\n",
        "        x = tok_emb + pos_emb\n",
        "        x = self.blocks(x)\n",
        "        x = self.ln_f(x)\n",
        "        logits = self.lm_head(x)\n",
        "        if targets is None:\n",
        "            loss = None\n",
        "        else:\n",
        "            B, T, C = logits.shape\n",
        "            logits = logits.view(B * T, C)\n",
        "            targets = targets.view(B * T)\n",
        "            loss = F.cross_entropy(logits, targets)\n",
        "        return logits, loss\n",
        "\n",
        "    def generate(self, idx, max_new_tokens):\n",
        "        for _ in range(max_new_tokens):\n",
        "            idx_cond = idx[:, -Config.block_size :]\n",
        "            logits, _ = self(idx_cond)\n",
        "            logits = logits[:, -1, :]\n",
        "            probs = F.softmax(logits, dim=-1)\n",
        "            idx_next = torch.multinomial(probs, num_samples=1)\n",
        "            idx = torch.cat((idx, idx_next), dim=1)\n",
        "        return idx\n",
        "\n",
        "\n",
        "def estimate_loss(model, data_loader):\n",
        "    model.eval()\n",
        "    losses = {\"train\": [], \"val\": []}\n",
        "    with torch.no_grad():\n",
        "        for split in [\"train\", \"val\"]:\n",
        "            for _ in range(Config.eval_iters):\n",
        "                x, y = data_loader.get_batch(split)\n",
        "                _, loss = model(x, y)\n",
        "                losses[split].append(loss.item())\n",
        "    model.train()\n",
        "    return {split: torch.tensor(losses[split]).mean().item() for split in losses}\n",
        "\n",
        "\n",
        "def save_model(model, path):\n",
        "    torch.save(model.state_dict(), path)"
      ]
    },
    {
      "cell_type": "code",
      "execution_count": 12,
      "metadata": {},
      "outputs": [],
      "source": [
        "text = read_text(\"cleaned_text.txt\")\n",
        "chars, stoi, itos = create_vocab(text)\n",
        "vocab_size = len(chars)\n",
        "data_loader = Dataset(text, Config.block_size)"
      ]
    },
    {
      "cell_type": "code",
      "execution_count": 13,
      "metadata": {},
      "outputs": [
        {
          "name": "stdout",
          "output_type": "stream",
          "text": [
            "14.53M parameters\n"
          ]
        }
      ],
      "source": [
        "# Initialize model and optimizer\n",
        "model = Transformer().to(Config.device)\n",
        "optimizer = torch.optim.AdamW(model.parameters(), lr=Config.learning_rate)\n",
        "print(f\"{sum(p.numel() for p in model.parameters())/1e6:.2f}M parameters\")"
      ]
    },
    {
      "cell_type": "code",
      "execution_count": 12,
      "metadata": {},
      "outputs": [
        {
          "name": "stderr",
          "output_type": "stream",
          "text": [
            "  0%|          | 0/5000 [00:00<?, ?it/s]"
          ]
        },
        {
          "name": "stdout",
          "output_type": "stream",
          "text": [
            "step 0: train loss 5.7680, val loss 5.7596\n"
          ]
        },
        {
          "name": "stderr",
          "output_type": "stream",
          "text": [
            "  2%|▏         | 100/5000 [01:12<37:11,  2.20it/s] "
          ]
        },
        {
          "name": "stdout",
          "output_type": "stream",
          "text": [
            "step 100: train loss 2.5638, val loss 2.4934\n"
          ]
        },
        {
          "name": "stderr",
          "output_type": "stream",
          "text": [
            "  4%|▍         | 200/5000 [02:24<34:30,  2.32it/s]   "
          ]
        },
        {
          "name": "stdout",
          "output_type": "stream",
          "text": [
            "step 200: train loss 2.4814, val loss 2.4271\n"
          ]
        },
        {
          "name": "stderr",
          "output_type": "stream",
          "text": [
            "  6%|▌         | 300/5000 [03:35<34:17,  2.28it/s]   "
          ]
        },
        {
          "name": "stdout",
          "output_type": "stream",
          "text": [
            "step 300: train loss 2.3710, val loss 2.3257\n"
          ]
        },
        {
          "name": "stderr",
          "output_type": "stream",
          "text": [
            "  8%|▊         | 400/5000 [04:47<33:12,  2.31it/s]   "
          ]
        },
        {
          "name": "stdout",
          "output_type": "stream",
          "text": [
            "step 400: train loss 2.0362, val loss 1.9910\n"
          ]
        },
        {
          "name": "stderr",
          "output_type": "stream",
          "text": [
            " 10%|█         | 500/5000 [05:59<33:32,  2.24it/s]   "
          ]
        },
        {
          "name": "stdout",
          "output_type": "stream",
          "text": [
            "step 500: train loss 1.8315, val loss 1.7966\n"
          ]
        },
        {
          "name": "stderr",
          "output_type": "stream",
          "text": [
            " 12%|█▏        | 600/5000 [07:10<31:49,  2.30it/s]   "
          ]
        },
        {
          "name": "stdout",
          "output_type": "stream",
          "text": [
            "step 600: train loss 1.6935, val loss 1.6737\n"
          ]
        },
        {
          "name": "stderr",
          "output_type": "stream",
          "text": [
            " 14%|█▍        | 700/5000 [08:22<31:47,  2.25it/s]   "
          ]
        },
        {
          "name": "stdout",
          "output_type": "stream",
          "text": [
            "step 700: train loss 1.5907, val loss 1.5816\n"
          ]
        },
        {
          "name": "stderr",
          "output_type": "stream",
          "text": [
            " 16%|█▌        | 800/5000 [09:35<32:59,  2.12it/s]   "
          ]
        },
        {
          "name": "stdout",
          "output_type": "stream",
          "text": [
            "step 800: train loss 1.5194, val loss 1.5168\n"
          ]
        },
        {
          "name": "stderr",
          "output_type": "stream",
          "text": [
            " 18%|█▊        | 900/5000 [10:46<29:23,  2.32it/s]   "
          ]
        },
        {
          "name": "stdout",
          "output_type": "stream",
          "text": [
            "step 900: train loss 1.4723, val loss 1.4744\n"
          ]
        },
        {
          "name": "stderr",
          "output_type": "stream",
          "text": [
            " 20%|██        | 1000/5000 [11:58<29:06,  2.29it/s]  "
          ]
        },
        {
          "name": "stdout",
          "output_type": "stream",
          "text": [
            "step 1000: train loss 1.4289, val loss 1.4370\n"
          ]
        },
        {
          "name": "stderr",
          "output_type": "stream",
          "text": [
            " 22%|██▏       | 1100/5000 [13:10<28:19,  2.29it/s]  "
          ]
        },
        {
          "name": "stdout",
          "output_type": "stream",
          "text": [
            "step 1100: train loss 1.3976, val loss 1.4175\n"
          ]
        },
        {
          "name": "stderr",
          "output_type": "stream",
          "text": [
            " 24%|██▍       | 1200/5000 [14:21<27:37,  2.29it/s]  "
          ]
        },
        {
          "name": "stdout",
          "output_type": "stream",
          "text": [
            "step 1200: train loss 1.3723, val loss 1.3883\n"
          ]
        },
        {
          "name": "stderr",
          "output_type": "stream",
          "text": [
            " 26%|██▌       | 1300/5000 [15:33<26:52,  2.29it/s]  "
          ]
        },
        {
          "name": "stdout",
          "output_type": "stream",
          "text": [
            "step 1300: train loss 1.3479, val loss 1.3691\n"
          ]
        },
        {
          "name": "stderr",
          "output_type": "stream",
          "text": [
            " 28%|██▊       | 1400/5000 [16:44<26:08,  2.29it/s]  "
          ]
        },
        {
          "name": "stdout",
          "output_type": "stream",
          "text": [
            "step 1400: train loss 1.3308, val loss 1.3509\n"
          ]
        },
        {
          "name": "stderr",
          "output_type": "stream",
          "text": [
            " 30%|███       | 1500/5000 [17:56<25:18,  2.31it/s]  "
          ]
        },
        {
          "name": "stdout",
          "output_type": "stream",
          "text": [
            "step 1500: train loss 1.3132, val loss 1.3351\n"
          ]
        },
        {
          "name": "stderr",
          "output_type": "stream",
          "text": [
            " 32%|███▏      | 1600/5000 [19:07<24:42,  2.29it/s]  "
          ]
        },
        {
          "name": "stdout",
          "output_type": "stream",
          "text": [
            "step 1600: train loss 1.3019, val loss 1.3278\n"
          ]
        },
        {
          "name": "stderr",
          "output_type": "stream",
          "text": [
            " 34%|███▍      | 1700/5000 [20:19<24:00,  2.29it/s]  "
          ]
        },
        {
          "name": "stdout",
          "output_type": "stream",
          "text": [
            "step 1700: train loss 1.2898, val loss 1.3147\n"
          ]
        },
        {
          "name": "stderr",
          "output_type": "stream",
          "text": [
            " 36%|███▌      | 1800/5000 [21:32<23:42,  2.25it/s]  "
          ]
        },
        {
          "name": "stdout",
          "output_type": "stream",
          "text": [
            "step 1800: train loss 1.2777, val loss 1.3101\n"
          ]
        },
        {
          "name": "stderr",
          "output_type": "stream",
          "text": [
            " 38%|███▊      | 1900/5000 [22:44<22:34,  2.29it/s]  "
          ]
        },
        {
          "name": "stdout",
          "output_type": "stream",
          "text": [
            "step 1900: train loss 1.2675, val loss 1.2961\n"
          ]
        },
        {
          "name": "stderr",
          "output_type": "stream",
          "text": [
            " 40%|████      | 2000/5000 [23:56<22:22,  2.24it/s]  "
          ]
        },
        {
          "name": "stdout",
          "output_type": "stream",
          "text": [
            "step 2000: train loss 1.2536, val loss 1.2865\n"
          ]
        },
        {
          "name": "stderr",
          "output_type": "stream",
          "text": [
            " 42%|████▏     | 2100/5000 [25:08<21:05,  2.29it/s]  "
          ]
        },
        {
          "name": "stdout",
          "output_type": "stream",
          "text": [
            "step 2100: train loss 1.2460, val loss 1.2796\n"
          ]
        },
        {
          "name": "stderr",
          "output_type": "stream",
          "text": [
            " 44%|████▍     | 2200/5000 [26:20<20:27,  2.28it/s]  "
          ]
        },
        {
          "name": "stdout",
          "output_type": "stream",
          "text": [
            "step 2200: train loss 1.2345, val loss 1.2723\n"
          ]
        },
        {
          "name": "stderr",
          "output_type": "stream",
          "text": [
            " 46%|████▌     | 2300/5000 [27:32<19:36,  2.29it/s]  "
          ]
        },
        {
          "name": "stdout",
          "output_type": "stream",
          "text": [
            "step 2300: train loss 1.2305, val loss 1.2698\n"
          ]
        },
        {
          "name": "stderr",
          "output_type": "stream",
          "text": [
            " 48%|████▊     | 2400/5000 [28:43<18:37,  2.33it/s]  "
          ]
        },
        {
          "name": "stdout",
          "output_type": "stream",
          "text": [
            "step 2400: train loss 1.2218, val loss 1.2598\n"
          ]
        },
        {
          "name": "stderr",
          "output_type": "stream",
          "text": [
            " 50%|█████     | 2500/5000 [29:55<18:54,  2.20it/s]  "
          ]
        },
        {
          "name": "stdout",
          "output_type": "stream",
          "text": [
            "step 2500: train loss 1.2157, val loss 1.2559\n"
          ]
        },
        {
          "name": "stderr",
          "output_type": "stream",
          "text": [
            " 52%|█████▏    | 2600/5000 [31:07<17:28,  2.29it/s]  "
          ]
        },
        {
          "name": "stdout",
          "output_type": "stream",
          "text": [
            "step 2600: train loss 1.2125, val loss 1.2543\n"
          ]
        },
        {
          "name": "stderr",
          "output_type": "stream",
          "text": [
            " 54%|█████▍    | 2700/5000 [32:19<16:43,  2.29it/s]  "
          ]
        },
        {
          "name": "stdout",
          "output_type": "stream",
          "text": [
            "step 2700: train loss 1.2024, val loss 1.2484\n"
          ]
        },
        {
          "name": "stderr",
          "output_type": "stream",
          "text": [
            " 56%|█████▌    | 2800/5000 [33:30<15:59,  2.29it/s]  "
          ]
        },
        {
          "name": "stdout",
          "output_type": "stream",
          "text": [
            "step 2800: train loss 1.2026, val loss 1.2495\n"
          ]
        },
        {
          "name": "stderr",
          "output_type": "stream",
          "text": [
            " 58%|█████▊    | 2900/5000 [34:42<15:17,  2.29it/s]  "
          ]
        },
        {
          "name": "stdout",
          "output_type": "stream",
          "text": [
            "step 2900: train loss 1.1999, val loss 1.2442\n"
          ]
        },
        {
          "name": "stderr",
          "output_type": "stream",
          "text": [
            " 60%|██████    | 3000/5000 [35:53<14:33,  2.29it/s]  "
          ]
        },
        {
          "name": "stdout",
          "output_type": "stream",
          "text": [
            "step 3000: train loss 1.1909, val loss 1.2395\n"
          ]
        },
        {
          "name": "stderr",
          "output_type": "stream",
          "text": [
            " 62%|██████▏   | 3100/5000 [37:05<13:44,  2.30it/s]  "
          ]
        },
        {
          "name": "stdout",
          "output_type": "stream",
          "text": [
            "step 3100: train loss 1.1861, val loss 1.2331\n"
          ]
        },
        {
          "name": "stderr",
          "output_type": "stream",
          "text": [
            " 64%|██████▍   | 3200/5000 [38:16<13:03,  2.30it/s]  "
          ]
        },
        {
          "name": "stdout",
          "output_type": "stream",
          "text": [
            "step 3200: train loss 1.1878, val loss 1.2341\n"
          ]
        },
        {
          "name": "stderr",
          "output_type": "stream",
          "text": [
            " 66%|██████▌   | 3300/5000 [39:28<12:19,  2.30it/s]  "
          ]
        },
        {
          "name": "stdout",
          "output_type": "stream",
          "text": [
            "step 3300: train loss 1.1815, val loss 1.2312\n"
          ]
        },
        {
          "name": "stderr",
          "output_type": "stream",
          "text": [
            " 68%|██████▊   | 3400/5000 [40:39<11:30,  2.32it/s]  "
          ]
        },
        {
          "name": "stdout",
          "output_type": "stream",
          "text": [
            "step 3400: train loss 1.1733, val loss 1.2234\n"
          ]
        },
        {
          "name": "stderr",
          "output_type": "stream",
          "text": [
            " 70%|███████   | 3500/5000 [41:50<10:54,  2.29it/s]  "
          ]
        },
        {
          "name": "stdout",
          "output_type": "stream",
          "text": [
            "step 3500: train loss 1.1685, val loss 1.2216\n"
          ]
        },
        {
          "name": "stderr",
          "output_type": "stream",
          "text": [
            " 72%|███████▏  | 3600/5000 [43:02<10:08,  2.30it/s]  "
          ]
        },
        {
          "name": "stdout",
          "output_type": "stream",
          "text": [
            "step 3600: train loss 1.1641, val loss 1.2151\n"
          ]
        },
        {
          "name": "stderr",
          "output_type": "stream",
          "text": [
            " 74%|███████▍  | 3700/5000 [44:13<09:26,  2.29it/s]  "
          ]
        },
        {
          "name": "stdout",
          "output_type": "stream",
          "text": [
            "step 3700: train loss 1.1611, val loss 1.2197\n"
          ]
        },
        {
          "name": "stderr",
          "output_type": "stream",
          "text": [
            " 76%|███████▌  | 3800/5000 [45:24<08:42,  2.30it/s]  "
          ]
        },
        {
          "name": "stdout",
          "output_type": "stream",
          "text": [
            "step 3800: train loss 1.1623, val loss 1.2199\n"
          ]
        },
        {
          "name": "stderr",
          "output_type": "stream",
          "text": [
            " 78%|███████▊  | 3900/5000 [46:35<07:58,  2.30it/s]  "
          ]
        },
        {
          "name": "stdout",
          "output_type": "stream",
          "text": [
            "step 3900: train loss 1.1532, val loss 1.2131\n"
          ]
        },
        {
          "name": "stderr",
          "output_type": "stream",
          "text": [
            " 80%|████████  | 4000/5000 [47:47<07:12,  2.31it/s]  "
          ]
        },
        {
          "name": "stdout",
          "output_type": "stream",
          "text": [
            "step 4000: train loss 1.1517, val loss 1.2097\n"
          ]
        },
        {
          "name": "stderr",
          "output_type": "stream",
          "text": [
            " 82%|████████▏ | 4100/5000 [48:57<06:27,  2.33it/s]  "
          ]
        },
        {
          "name": "stdout",
          "output_type": "stream",
          "text": [
            "step 4100: train loss 1.1494, val loss 1.2064\n"
          ]
        },
        {
          "name": "stderr",
          "output_type": "stream",
          "text": [
            " 84%|████████▍ | 4200/5000 [50:09<05:46,  2.31it/s]  "
          ]
        },
        {
          "name": "stdout",
          "output_type": "stream",
          "text": [
            "step 4200: train loss 1.1459, val loss 1.2018\n"
          ]
        },
        {
          "name": "stderr",
          "output_type": "stream",
          "text": [
            " 86%|████████▌ | 4300/5000 [51:22<05:08,  2.27it/s]  "
          ]
        },
        {
          "name": "stdout",
          "output_type": "stream",
          "text": [
            "step 4300: train loss 1.1407, val loss 1.1993\n"
          ]
        },
        {
          "name": "stderr",
          "output_type": "stream",
          "text": [
            " 88%|████████▊ | 4400/5000 [52:34<04:23,  2.28it/s]  "
          ]
        },
        {
          "name": "stdout",
          "output_type": "stream",
          "text": [
            "step 4400: train loss 1.1401, val loss 1.2015\n"
          ]
        },
        {
          "name": "stderr",
          "output_type": "stream",
          "text": [
            " 90%|█████████ | 4500/5000 [53:47<03:41,  2.26it/s]  "
          ]
        },
        {
          "name": "stdout",
          "output_type": "stream",
          "text": [
            "step 4500: train loss 1.1393, val loss 1.1962\n"
          ]
        },
        {
          "name": "stderr",
          "output_type": "stream",
          "text": [
            " 92%|█████████▏| 4600/5000 [54:59<03:04,  2.17it/s]  "
          ]
        },
        {
          "name": "stdout",
          "output_type": "stream",
          "text": [
            "step 4600: train loss 1.1351, val loss 1.1964\n"
          ]
        },
        {
          "name": "stderr",
          "output_type": "stream",
          "text": [
            " 94%|█████████▍| 4700/5000 [56:11<02:11,  2.28it/s]"
          ]
        },
        {
          "name": "stdout",
          "output_type": "stream",
          "text": [
            "step 4700: train loss 1.1337, val loss 1.1923\n"
          ]
        },
        {
          "name": "stderr",
          "output_type": "stream",
          "text": [
            " 96%|█████████▌| 4800/5000 [57:21<01:25,  2.33it/s]"
          ]
        },
        {
          "name": "stdout",
          "output_type": "stream",
          "text": [
            "step 4800: train loss 1.1323, val loss 1.1936\n"
          ]
        },
        {
          "name": "stderr",
          "output_type": "stream",
          "text": [
            " 98%|█████████▊| 4900/5000 [58:32<00:43,  2.32it/s]"
          ]
        },
        {
          "name": "stdout",
          "output_type": "stream",
          "text": [
            "step 4900: train loss 1.1325, val loss 1.1932\n"
          ]
        },
        {
          "name": "stderr",
          "output_type": "stream",
          "text": [
            "100%|█████████▉| 4999/5000 [59:41<00:00,  2.32it/s]"
          ]
        },
        {
          "name": "stdout",
          "output_type": "stream",
          "text": [
            "step 4999: train loss 1.1276, val loss 1.1890\n"
          ]
        },
        {
          "name": "stderr",
          "output_type": "stream",
          "text": [
            "100%|██████████| 5000/5000 [1:00:09<00:00,  1.39it/s]\n"
          ]
        }
      ],
      "source": [
        "# Lists to store losses for plotting\n",
        "train_losses = []\n",
        "val_losses = []\n",
        "\n",
        "# Training loop\n",
        "for iter in tqdm(range(Config.max_iters)):\n",
        "    if iter % Config.eval_interval == 0 or iter == Config.max_iters - 1:\n",
        "        losses = estimate_loss(model, data_loader)\n",
        "        train_losses.append(losses['train'])\n",
        "        val_losses.append(losses['val'])\n",
        "        print(f\"step {iter}: train loss {losses['train']:.4f}, val loss {losses['val']:.4f}\")\n",
        "\n",
        "    xb, yb = data_loader.get_batch(\"train\")\n",
        "    logits, loss = model(xb, yb)\n",
        "    optimizer.zero_grad()\n",
        "    loss.backward()\n",
        "    optimizer.step()\n"
      ]
    },
    {
      "cell_type": "code",
      "execution_count": 13,
      "metadata": {},
      "outputs": [],
      "source": [
        "# Save the model\n",
        "save_model(model, \"transformer.pth\")"
      ]
    },
    {
      "cell_type": "code",
      "execution_count": 14,
      "metadata": {},
      "outputs": [
        {
          "data": {
            "image/png": "[encoded data removed]",
            "text/plain": [
              "<Figure size 1000x500 with 1 Axes>"
            ]
          },
          "metadata": {},
          "output_type": "display_data"
        }
      ],
      "source": [
        "# Plot the losses\n",
        "plot_losses(train_losses, val_losses)"
      ]
    },
    {
      "cell_type": "code",
      "execution_count": 14,
      "metadata": {},
      "outputs": [],
      "source": [
        "# Generate text\n",
        "def encode_input_string(s):\n",
        "    return torch.tensor(encode_string(s, stoi), dtype=torch.long).unsqueeze(0).to(Config.device)\n",
        "\n",
        "def generate_from_input(input_str, max_new_tokens=100):\n",
        "    input_tensor = encode_input_string(input_str)\n",
        "    generated = model.generate(input_tensor, max_new_tokens=max_new_tokens)\n",
        "    return decode_indices(generated[0].tolist(), itos)"
      ]
    },
    {
      "cell_type": "code",
      "execution_count": 15,
      "metadata": {},
      "outputs": [],
      "source": [
        "# load weights\n",
        "def load_model(model, path):\n",
        "    model.load_state_dict(torch.load(path))\n",
        "    model.to(Config.device)\n",
        "\n",
        "load_model(model, \"transformer.pth\")    "
      ]
    },
    {
      "cell_type": "code",
      "execution_count": 21,
      "metadata": {},
      "outputs": [
        {
          "name": "stdout",
          "output_type": "stream",
          "text": [
            "\"Detective John entered the dimly lit room, only to find a pool of blood next to the\n",
            "room, repeating his direction, he had no amuse\"\n",
            "\n",
            "\"The suspect had a solid alibi, but something in his eyes told the inspector that had\n",
            "accepted him split for my protection. Every proper her ladyship was rome\n",
            "thickening and vender I\"\n",
            "\n",
            "\"She never expected the secret message hidden in the old locket would lead her to again.\n",
            "By no resurrant half anything more so in the country \"\n",
            "\n",
            "\"As the clock struck midnight, the eerie silence was broken by the sound of the\n",
            "duty, and had scound made by a place upon the patient crying all the\n",
            "squires were uttered... upon baptizing between trypinolids over the\n",
            "steel, and the miracle seemed to beat the summer, as and ca\"\n",
            "\n",
            "\"The missing pages from the diary hinted at a conspiracy that went all the way to him\n",
            "and was him. After though it was deserted ill fatig\"\n",
            "\n",
            "\"With every step in the abandoned warehouse, Mark could feel someone watching him from the\n",
            "office, and now as a matter of recollecti\"\n",
            "\n",
            "\"The coded note left at the crime scene was the key to unraveling the mystery of the\n",
            "Russian commandment. The mother paid hilder back me and said the\n",
            "reservant impossible. I asked t\"\n",
            "\n",
            "\"Just as she was about to give up, a mysterious figure emerged from the shadows and wish\n",
            "it to be tomorrowable in having purchase—perfect globit\"\n",
            "\n",
            "\"The old detective had seen many cases, but nothing as chilling as the one involving to\n",
            "any of the patient demonded on the reception of the Kingdome, who,\n",
            "we ay might already discrearly send upon under several businesses, and\n",
            "such an a\"\n",
            "\n",
            "\"Every clue pointed to the butler, but the real mastermind behind the crimes was not\n",
            "before, as I now said to them. Some sequence l\"\n",
            "\n"
          ]
        }
      ],
      "source": [
        "benchmark_data = [\n",
        "    (\"Detective John entered the dimly lit room, only to find a pool of blood next to \", 50),\n",
        "    (\"The suspect had a solid alibi, but something in his eyes told the inspector that \", 100),\n",
        "    (\"She never expected the secret message hidden in the old locket would lead her to \", 60),\n",
        "    (\"As the clock struck midnight, the eerie silence was broken by the sound of \", 200),\n",
        "    (\"The missing pages from the diary hinted at a conspiracy that went all the way to \", 55),\n",
        "    (\"With every step in the abandoned warehouse, Mark could feel someone watching him from \", 45),\n",
        "    (\"The coded note left at the crime scene was the key to unraveling the mystery of \", 100),\n",
        "    (\"Just as she was about to give up, a mysterious figure emerged from the shadows and \", 60),\n",
        "    (\"The old detective had seen many cases, but nothing as chilling as the one involving \", 150),\n",
        "    (\"Every clue pointed to the butler, but the real mastermind behind the crimes was \", 50),\n",
        "]\n",
        "\n",
        "for prompt, max_new_tokens in benchmark_data:\n",
        "    print(f\"\\\"{generate_from_input(prompt, max_new_tokens=max_new_tokens)}\\\"\\n\")\n"
      ]
    }
  ],
  "metadata": {
    "colab": {
      "provenance": []
    },
    "kernelspec": {
      "display_name": "Python 3",
      "name": "python3"
    },
    "language_info": {
      "codemirror_mode": {
        "name": "ipython",
        "version": 3
      },
      "file_extension": ".py",
      "mimetype": "text/x-python",
      "name": "python",
      "nbconvert_exporter": "python",
      "pygments_lexer": "ipython3",
      "version": "3.12.1"
    }
  },
  "nbformat": 4,
  "nbformat_minor": 0
}
